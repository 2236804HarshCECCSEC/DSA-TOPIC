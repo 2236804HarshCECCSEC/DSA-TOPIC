{
 "cells": [
  {
   "cell_type": "code",
   "execution_count": 2,
   "metadata": {},
   "outputs": [
    {
     "name": "stdout",
     "output_type": "stream",
     "text": [
      "don't forget\n",
      "to do list remaining\n",
      "-buy grocery\n",
      "-pay bill\n",
      "-sedule meeting\n",
      "-go for a run\n"
     ]
    }
   ],
   "source": [
    "to_do_list=[\"buy grocery\",\"clean the house\",\"pay bill\"]\n",
    "\n",
    "## adding to task\n",
    "\n",
    "to_do_list.append(\"sedule meeting\")\n",
    "to_do_list.append(\"go for a run\")\n",
    "## removing completed task\n",
    "to_do_list.remove(\"clean the house\")\n",
    "\n",
    "##checking if the task is in the list\n",
    "\n",
    "if \"pay bill\" in to_do_list:\n",
    "    print(\"don't forget\")\n",
    "\n",
    "print(\"to do list remaining\")    \n",
    "for task in to_do_list:\n",
    "    print(f\"-{task}\")"
   ]
  },
  {
   "cell_type": "code",
   "execution_count": 4,
   "metadata": {},
   "outputs": [
    {
     "name": "stdout",
     "output_type": "stream",
     "text": [
      "Average Grades:88.00\n",
      "HG 95\n",
      "LG 78\n"
     ]
    }
   ],
   "source": [
    "## organise student grades\n",
    "\n",
    "grades=[85,92,78,90,88]\n",
    "\n",
    "## adding new grade\n",
    "grades.append(95)\n",
    "\n",
    "## calculate the avg grades\n",
    "average_grade=sum(grades)/len(grades)\n",
    "print(f\"Average Grades:{average_grade:.2f}\")\n",
    "\n",
    "##finding the highest and lowest grads\n",
    "highest_grade=max(grades)\n",
    "lowest_grades=min(grades)\n",
    "print(\"HG\",highest_grade)\n",
    "print(\"LG\",lowest_grades)"
   ]
  },
  {
   "cell_type": "code",
   "execution_count": 5,
   "metadata": {},
   "outputs": [
    {
     "name": "stdout",
     "output_type": "stream",
     "text": [
      "b are in stock.\n"
     ]
    }
   ],
   "source": [
    "inventory=['a','b','c','d']\n",
    "\n",
    "inventory.append('e')\n",
    "\n",
    "inventory.remove('c')\n",
    "\n",
    "item='b'\n",
    "if item in inventory:\n",
    "    print(f\"{item} are in stock.\")\n",
    "else:\n",
    "     print(f\"{item} are out of stock.\")   "
   ]
  },
  {
   "cell_type": "code",
   "execution_count": null,
   "metadata": {},
   "outputs": [],
   "source": []
  }
 ],
 "metadata": {
  "kernelspec": {
   "display_name": "Python 3",
   "language": "python",
   "name": "python3"
  },
  "language_info": {
   "codemirror_mode": {
    "name": "ipython",
    "version": 3
   },
   "file_extension": ".py",
   "mimetype": "text/x-python",
   "name": "python",
   "nbconvert_exporter": "python",
   "pygments_lexer": "ipython3",
   "version": "3.12.0"
  }
 },
 "nbformat": 4,
 "nbformat_minor": 2
}
