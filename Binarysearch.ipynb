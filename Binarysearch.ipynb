{
 "cells": [
  {
   "cell_type": "code",
   "execution_count": 2,
   "metadata": {},
   "outputs": [],
   "source": [
    "## Binary search \n",
    "## it will need an array and a target.\n",
    "## It will consider the full array list \"sorted array\". Start =0,end=n_1.\n",
    "## see the middle element. middle=(end-start)//2\n",
    "## we compare element at middle with target.\n",
    "\n",
    "## arr=[10,23,35,45,50,70,85]\n",
    "#index   0  1  2  3  4  5  6\n",
    "\n",
    "##1st iteration start=0, end=6, mid=3,target =50\n",
    "## arr[mid]=45<50\n",
    "\n",
    "\n",
    "## 2nd iteration start=4,end =6,mid=5\n",
    "##arr[mid]=70>50\n",
    "\n",
    "## 3rd iteration start =4 , end=4,mid=4\n",
    "## arr[mid]=50==50\n",
    "\n",
    "\n"
   ]
  },
  {
   "cell_type": "code",
   "execution_count": 7,
   "metadata": {},
   "outputs": [
    {
     "name": "stdout",
     "output_type": "stream",
     "text": [
      "6\n"
     ]
    }
   ],
   "source": [
    "def binary_search(arr,target):\n",
    "    size=len(arr)\n",
    "    start=0\n",
    "    end=size-1\n",
    "\n",
    "    while(start<=end):\n",
    "        mid=(start+end)//2\n",
    "\n",
    "        if(arr[mid]==target):\n",
    "            return mid\n",
    "        elif ( arr[mid]>target):\n",
    "            end=mid-1\n",
    "\n",
    "        elif(arr[mid] <target) :\n",
    "            start=mid+1\n",
    "\n",
    "    return -1         \n",
    "                    \n",
    "\n",
    "sorted_list=[10,23,35,45,50,70,85]\n",
    "target=85\n",
    "\n",
    "result=binary_search(sorted_list,target)\n",
    "print(result)"
   ]
  },
  {
   "cell_type": "code",
   "execution_count": null,
   "metadata": {},
   "outputs": [],
   "source": []
  }
 ],
 "metadata": {
  "kernelspec": {
   "display_name": "Python 3",
   "language": "python",
   "name": "python3"
  },
  "language_info": {
   "codemirror_mode": {
    "name": "ipython",
    "version": 3
   },
   "file_extension": ".py",
   "mimetype": "text/x-python",
   "name": "python",
   "nbconvert_exporter": "python",
   "pygments_lexer": "ipython3",
   "version": "3.12.0"
  }
 },
 "nbformat": 4,
 "nbformat_minor": 2
}
