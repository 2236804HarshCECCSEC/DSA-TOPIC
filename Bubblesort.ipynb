{
 "cells": [
  {
   "cell_type": "code",
   "execution_count": 4,
   "metadata": {},
   "outputs": [],
   "source": [
    "##Bubble sort algo\n",
    "\n",
    "#   arr=[12,25,11,34,90,22]\n",
    "#index    0  1  2  3  4  5\n",
    "\n",
    "## step 1 compare first two elements theylooks in fine order \n",
    "\n",
    "##step 2 compare index 2 and 3 here element 25 and 11 they are not in right order as 25>11 so we swap them.\n",
    "\n",
    "##pass1 end pass 2 start.\n",
    "\n",
    "## follow thi step till you satisfy all the condition for sorting.\n"
   ]
  },
  {
   "cell_type": "code",
   "execution_count": 6,
   "metadata": {},
   "outputs": [],
   "source": [
    "## the largets element i.e 90 is at the right position.\n",
    "\n",
    "## we need \"len-1\" passes to do that.\n",
    "\n",
    "## in second pass the second largest element is in the second last position."
   ]
  },
  {
   "cell_type": "code",
   "execution_count": null,
   "metadata": {},
   "outputs": [],
   "source": []
  }
 ],
 "metadata": {
  "kernelspec": {
   "display_name": "Python 3",
   "language": "python",
   "name": "python3"
  },
  "language_info": {
   "codemirror_mode": {
    "name": "ipython",
    "version": 3
   },
   "file_extension": ".py",
   "mimetype": "text/x-python",
   "name": "python",
   "nbconvert_exporter": "python",
   "pygments_lexer": "ipython3",
   "version": "3.12.0"
  }
 },
 "nbformat": 4,
 "nbformat_minor": 2
}
