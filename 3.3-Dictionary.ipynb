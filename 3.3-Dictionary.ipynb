{
 "cells": [
  {
   "cell_type": "markdown",
   "metadata": {},
   "source": [
    "## Dictionary"
   ]
  },
  {
   "cell_type": "markdown",
   "metadata": {},
   "source": [
    "###### Dictionary are unordered collections of items. They store data in key-value pairs. Keys must be unique and immutable,while values can be of any type."
   ]
  },
  {
   "cell_type": "code",
   "execution_count": 1,
   "metadata": {},
   "outputs": [
    {
     "data": {
      "text/plain": [
       "dict"
      ]
     },
     "execution_count": 1,
     "metadata": {},
     "output_type": "execute_result"
    }
   ],
   "source": [
    "##creating dictionaries\n",
    "\n",
    "dict={}\n",
    "type(dict)"
   ]
  },
  {
   "cell_type": "code",
   "execution_count": 5,
   "metadata": {},
   "outputs": [
    {
     "name": "stdout",
     "output_type": "stream",
     "text": [
      "{'Name': 'harshuu', 'age': 69, 'Grade': 24}\n",
      "<class 'dict'>\n"
     ]
    }
   ],
   "source": [
    "student={\"Name\":\"harshuu\",\"age\":69,\"Grade\":24}\n",
    "print(student)\n",
    "print(type(student))"
   ]
  },
  {
   "cell_type": "code",
   "execution_count": 7,
   "metadata": {},
   "outputs": [
    {
     "name": "stdout",
     "output_type": "stream",
     "text": [
      "{'Name': 'harshuu', 'age': 69}\n"
     ]
    }
   ],
   "source": [
    "##error\n",
    "\n",
    "student={\"Name\":\"harshuu\",\"age\":69,\"Name\":\"harshuu\"}\n",
    "print(student)\n"
   ]
  },
  {
   "cell_type": "code",
   "execution_count": 11,
   "metadata": {},
   "outputs": [
    {
     "name": "stdout",
     "output_type": "stream",
     "text": [
      "{'Name': 'harshuu', 'age': 69, 'Grade': 'A'}\n"
     ]
    }
   ],
   "source": [
    "## acessing dictionary elements\n",
    "student={\"Name\":\"harshuu\",\"age\":69,\"Grade\":'A'}\n",
    "print(student)\n"
   ]
  },
  {
   "cell_type": "code",
   "execution_count": 12,
   "metadata": {},
   "outputs": [
    {
     "name": "stdout",
     "output_type": "stream",
     "text": [
      "A\n",
      "69\n",
      "A\n",
      "None\n",
      "Nahi hai re baba!!\n"
     ]
    }
   ],
   "source": [
    "## accesing dict elements\n",
    "print(student[\"Grade\"])\n",
    "print(student['age'])\n",
    "\n",
    "## Accesing using get() method\n",
    "print(student.get('Grade'))\n",
    "print(student.get('last_name'))\n",
    "print(student.get('last_name',\"Nahi hai re baba!!\"))"
   ]
  },
  {
   "cell_type": "code",
   "execution_count": 14,
   "metadata": {},
   "outputs": [
    {
     "name": "stdout",
     "output_type": "stream",
     "text": [
      "{'Name': 'harshuu', 'age': 69, 'Grade': 'A'}\n"
     ]
    }
   ],
   "source": [
    "## Modifying dict elements\n",
    "## dict are mutable so you can add,update and delete element. but your key need to be unique.\n",
    "print(student)"
   ]
  },
  {
   "cell_type": "code",
   "execution_count": 16,
   "metadata": {},
   "outputs": [
    {
     "name": "stdout",
     "output_type": "stream",
     "text": [
      "{'Name': 'harshuu', 'age': 33, 'Grade': 'A', 'address': 'Tera dill'}\n",
      "{'Name': 'harshuu', 'age': 33, 'Grade': 'A', 'address': 'Tera dill'}\n"
     ]
    }
   ],
   "source": [
    "student['age']=33 ##update the key value\n",
    "print(student)\n",
    "student['address']=\"Tera dill\" ## added a new key and value\n",
    "print(student)"
   ]
  },
  {
   "cell_type": "code",
   "execution_count": 32,
   "metadata": {},
   "outputs": [
    {
     "name": "stdout",
     "output_type": "stream",
     "text": [
      "{'Name': 'jhapu', 'age': 33, 'address': 'Tera dill'}\n"
     ]
    }
   ],
   "source": [
    "\n",
    "del student['Grade'] ## delete the key and value pair\n",
    "print(student)"
   ]
  },
  {
   "cell_type": "code",
   "execution_count": 22,
   "metadata": {},
   "outputs": [
    {
     "name": "stdout",
     "output_type": "stream",
     "text": [
      "dict_keys(['Name', 'age', 'address'])\n",
      "dict_values(['harshuu', 33, 'Tera dill'])\n",
      "dict_items([('Name', 'harshuu'), ('age', 33), ('address', 'Tera dill')])\n"
     ]
    }
   ],
   "source": [
    "## dict methods\n",
    "\n",
    "keys=student.keys() ## get all the keys\n",
    "print(keys)\n",
    "values=student.values() ##get all the values\n",
    "print(values)\n",
    "\n",
    "items=student.items() ## get all key value pair\n",
    "print(items)"
   ]
  },
  {
   "cell_type": "code",
   "execution_count": 23,
   "metadata": {},
   "outputs": [
    {
     "name": "stdout",
     "output_type": "stream",
     "text": [
      "{'Name': 'harshuu', 'age': 33, 'address': 'Tera dill'}\n",
      "{'Name': 'harshuu', 'age': 33, 'address': 'Tera dill'}\n"
     ]
    }
   ],
   "source": [
    "## shallow copy\n",
    "student_copy=student\n",
    "print(student)\n",
    "print(student_copy)"
   ]
  },
  {
   "cell_type": "code",
   "execution_count": 24,
   "metadata": {},
   "outputs": [
    {
     "name": "stdout",
     "output_type": "stream",
     "text": [
      "{'Name': 'lappu', 'age': 33, 'address': 'Tera dill'}\n",
      "{'Name': 'lappu', 'age': 33, 'address': 'Tera dill'}\n"
     ]
    }
   ],
   "source": [
    "student['Name']='lappu'\n",
    "print(student)\n",
    "print(student_copy)"
   ]
  },
  {
   "cell_type": "code",
   "execution_count": 25,
   "metadata": {},
   "outputs": [
    {
     "name": "stdout",
     "output_type": "stream",
     "text": [
      "{'Name': 'lappu', 'age': 33, 'address': 'Tera dill'}\n",
      "{'Name': 'lappu', 'age': 33, 'address': 'Tera dill'}\n"
     ]
    }
   ],
   "source": [
    "## how to make seperate copy\n",
    "## we use shallow copy\n",
    "\n",
    "student_copy1=student.copy()\n",
    "print(student_copy1)\n",
    "print(student)"
   ]
  },
  {
   "cell_type": "code",
   "execution_count": 26,
   "metadata": {},
   "outputs": [
    {
     "name": "stdout",
     "output_type": "stream",
     "text": [
      "{'Name': 'jhapu', 'age': 33, 'address': 'Tera dill'}\n",
      "{'Name': 'lappu', 'age': 33, 'address': 'Tera dill'}\n"
     ]
    }
   ],
   "source": [
    "student['Name']='jhapu'\n",
    "print(student)\n",
    "print(student_copy1)"
   ]
  },
  {
   "cell_type": "code",
   "execution_count": 27,
   "metadata": {},
   "outputs": [
    {
     "name": "stdout",
     "output_type": "stream",
     "text": [
      "Name\n",
      "age\n",
      "address\n"
     ]
    }
   ],
   "source": [
    "## iterating over dictionary\n",
    "## you can use loop to iterate over dictionaries,keys,values,or items\n",
    "## iterating over keys\n",
    "\n",
    "for keys in student.keys():\n",
    "    print(keys)"
   ]
  },
  {
   "cell_type": "code",
   "execution_count": 29,
   "metadata": {},
   "outputs": [
    {
     "name": "stdout",
     "output_type": "stream",
     "text": [
      "jhapu\n",
      "33\n",
      "Tera dill\n"
     ]
    }
   ],
   "source": [
    "## iterate over values\n",
    "for value in student.values():\n",
    "    print(value)"
   ]
  },
  {
   "cell_type": "code",
   "execution_count": 30,
   "metadata": {},
   "outputs": [
    {
     "name": "stdout",
     "output_type": "stream",
     "text": [
      "Name:jhapu\n",
      "age:33\n",
      "address:Tera dill\n"
     ]
    }
   ],
   "source": [
    "## iterate over key value pair\n",
    "\n",
    "for key,value in student.items():\n",
    "    print(f\"{key}:{value}\")"
   ]
  },
  {
   "cell_type": "code",
   "execution_count": 33,
   "metadata": {},
   "outputs": [
    {
     "name": "stdout",
     "output_type": "stream",
     "text": [
      "{'s1': {'name': 'harsh', 'age': 22}, 's2': {'name': 'ramkhelawan', 'age': 18}}\n"
     ]
    }
   ],
   "source": [
    "## Nested dict\n",
    "\n",
    "student={\n",
    "    \"s1\":{\"name\":\"harsh\",\"age\":22},\n",
    "    \"s2\":{\"name\":\"ramkhelawan\",\"age\":18}\n",
    "}\n",
    "\n",
    "print(student)\n"
   ]
  },
  {
   "cell_type": "code",
   "execution_count": 34,
   "metadata": {},
   "outputs": [
    {
     "name": "stdout",
     "output_type": "stream",
     "text": [
      "ramkhelawan\n",
      "18\n"
     ]
    }
   ],
   "source": [
    "## access nested dict\n",
    "\n",
    "print(student[\"s2\"][\"name\"])\n",
    "print(student[\"s2\"][\"age\"])"
   ]
  },
  {
   "cell_type": "code",
   "execution_count": 35,
   "metadata": {},
   "outputs": [
    {
     "name": "stdout",
     "output_type": "stream",
     "text": [
      "s1:{'name': 'harsh', 'age': 22}\n",
      "name:harsh\n",
      "age:22\n",
      "s2:{'name': 'ramkhelawan', 'age': 18}\n",
      "name:ramkhelawan\n",
      "age:18\n"
     ]
    }
   ],
   "source": [
    "## iterating over nested dictionries\n",
    "\n",
    "for student_id,student_info in student.items():\n",
    "    print(f\"{student_id}:{student_info}\")\n",
    "    for key,value in student_info.items():\n",
    "\n",
    "        print(f\"{key}:{value}\")"
   ]
  },
  {
   "cell_type": "code",
   "execution_count": 36,
   "metadata": {},
   "outputs": [
    {
     "data": {
      "text/plain": [
       "dict_items([('s1', {'name': 'harsh', 'age': 22}), ('s2', {'name': 'ramkhelawan', 'age': 18})])"
      ]
     },
     "execution_count": 36,
     "metadata": {},
     "output_type": "execute_result"
    }
   ],
   "source": [
    "student.items()"
   ]
  },
  {
   "cell_type": "code",
   "execution_count": 39,
   "metadata": {},
   "outputs": [
    {
     "name": "stdout",
     "output_type": "stream",
     "text": [
      "{0: 0, 1: 1, 2: 4, 3: 9, 4: 16}\n"
     ]
    }
   ],
   "source": [
    "## dictionary comphrehension\n",
    "square={x:x**2 for x in range(5)}\n",
    "print(square)"
   ]
  },
  {
   "cell_type": "code",
   "execution_count": 42,
   "metadata": {},
   "outputs": [
    {
     "name": "stdout",
     "output_type": "stream",
     "text": [
      "{0: 0, 2: 4, 4: 16, 6: 36, 8: 64}\n"
     ]
    }
   ],
   "source": [
    "##condition dict comprehension\n",
    "even={x:x**2 for x in range(10) if x%2==0}\n",
    "print(even)"
   ]
  },
  {
   "cell_type": "code",
   "execution_count": 44,
   "metadata": {},
   "outputs": [
    {
     "name": "stdout",
     "output_type": "stream",
     "text": [
      "{1: 1, 2: 2, 3: 2, 4: 4}\n"
     ]
    }
   ],
   "source": [
    "## practical example\n",
    "\n",
    "## use a dictionary to count the frequency of element in  list\n",
    "\n",
    "numbers=[1,2,2,3,3,4,4,4,4]\n",
    "frequency={}\n",
    "for number in numbers:\n",
    "    if number in frequency:\n",
    "        frequency[number]+=1\n",
    "    else:\n",
    "        frequency[number]=1\n",
    "print(frequency)        "
   ]
  },
  {
   "cell_type": "code",
   "execution_count": 45,
   "metadata": {},
   "outputs": [
    {
     "name": "stdout",
     "output_type": "stream",
     "text": [
      "{'a': 1, 'b': 3, 'c': 4}\n"
     ]
    }
   ],
   "source": [
    "## merge 2 dict into one\n",
    "\n",
    "dict1={\"a\":1,\"b\":2}\n",
    "dict2={\"b\":3,\"c\":4}\n",
    "merged_dict={**dict1,**dict2}\n",
    "print(merged_dict)"
   ]
  },
  {
   "cell_type": "code",
   "execution_count": null,
   "metadata": {},
   "outputs": [],
   "source": []
  }
 ],
 "metadata": {
  "kernelspec": {
   "display_name": "Python 3",
   "language": "python",
   "name": "python3"
  },
  "language_info": {
   "codemirror_mode": {
    "name": "ipython",
    "version": 3
   },
   "file_extension": ".py",
   "mimetype": "text/x-python",
   "name": "python",
   "nbconvert_exporter": "python",
   "pygments_lexer": "ipython3",
   "version": "3.12.0"
  }
 },
 "nbformat": 4,
 "nbformat_minor": 2
}
