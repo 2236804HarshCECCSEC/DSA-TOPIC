{
 "cells": [
  {
   "cell_type": "code",
   "execution_count": 2,
   "metadata": {},
   "outputs": [],
   "source": [
    "## if statement\n",
    "## it evaluate the conditon and execute the block code  within the condition if it is true"
   ]
  },
  {
   "cell_type": "code",
   "execution_count": 5,
   "metadata": {},
   "outputs": [
    {
     "name": "stdout",
     "output_type": "stream",
     "text": [
      "Adult\n"
     ]
    }
   ],
   "source": [
    "age=20\n",
    "if(age>=18):\n",
    "    print(\"Adult\")"
   ]
  },
  {
   "cell_type": "code",
   "execution_count": 8,
   "metadata": {},
   "outputs": [
    {
     "data": {
      "text/plain": [
       "True"
      ]
     },
     "execution_count": 8,
     "metadata": {},
     "output_type": "execute_result"
    }
   ],
   "source": [
    "age>=18"
   ]
  },
  {
   "cell_type": "code",
   "execution_count": 10,
   "metadata": {},
   "outputs": [
    {
     "name": "stdout",
     "output_type": "stream",
     "text": [
      "you are baccha \n"
     ]
    }
   ],
   "source": [
    "## else\n",
    "## the else statement execute the block of code if the condition in if is false\n",
    "\n",
    "age=16\n",
    "if(age>=18):\n",
    "    print(\"you are eligible for votiong\")\n",
    "else:\n",
    "    print(\"you are baccha \")    "
   ]
  },
  {
   "cell_type": "code",
   "execution_count": 12,
   "metadata": {},
   "outputs": [
    {
     "name": "stdout",
     "output_type": "stream",
     "text": [
      "you are teen\n"
     ]
    }
   ],
   "source": [
    "## elif statement\n",
    "## it allows you to check multiple statement .It stands for \"elif if\" \n",
    "\n",
    "age=17\n",
    "if age<13:\n",
    "    print(\"you are kid\")\n",
    "elif age<18:\n",
    "    print(\"you are teen\")    \n",
    "else:\n",
    "    print(\" Jawan launda\")    "
   ]
  },
  {
   "cell_type": "code",
   "execution_count": 19,
   "metadata": {},
   "outputs": [
    {
     "name": "stdout",
     "output_type": "stream",
     "text": [
      "the number is  +ve\n",
      "the number is odd\n"
     ]
    }
   ],
   "source": [
    "## Nested conditional statements\n",
    "## combination of all inside each other.\n",
    "\n",
    "## number  even ,odd or negative\n",
    "\n",
    "num=int(input(\"enter the number\"))\n",
    "if num>0:\n",
    "    print(\"the number is  +ve\")\n",
    "    if num%2==0:\n",
    "        print(\"the number is even\")\n",
    "    else:\n",
    "        print(\"the number is odd\")    \n",
    "else:\n",
    "    print(\"the number zero or negative\")"
   ]
  },
  {
   "cell_type": "code",
   "execution_count": 23,
   "metadata": {},
   "outputs": [
    {
     "name": "stdout",
     "output_type": "stream",
     "text": [
      "2024 is a leap year\n"
     ]
    }
   ],
   "source": [
    "## practical examples\n",
    "\n",
    "## determine if a year is leap year using nested conditonl statement\n",
    "\n",
    "year=int(input(\"enter the year\"))\n",
    "\n",
    "if year%4==0:\n",
    "    if year%100==0:\n",
    "        if year%400==0:\n",
    "           print(\"the year is leap year\")\n",
    "        else:\n",
    "           print(\"the year is not leap year\")\n",
    "    else:\n",
    "        print(year,\"is a leap year\")  \n",
    "else:\n",
    "    print(\"the year is not leap year\")                 "
   ]
  },
  {
   "cell_type": "code",
   "execution_count": 36,
   "metadata": {},
   "outputs": [
    {
     "name": "stdout",
     "output_type": "stream",
     "text": [
      "34.0\n"
     ]
    }
   ],
   "source": [
    "## Assignment\n",
    "## simple calculator user input\n",
    "n1=float(input(\"enter the value\"))\n",
    "n2=float(input(\"enter the value\"))\n",
    "oper=input(\"Enter operation(+,-,*,/):\")\n",
    "\n",
    "if oper=='+':\n",
    "    result=n1+n2\n",
    "elif oper=='-':\n",
    "    result=n1-n2\n",
    "elif oper=='*':\n",
    "    result=n1*n2\n",
    "elif oper=='/':\n",
    "    if n2!=0:\n",
    "        result=n1/n2\n",
    "    else:\n",
    "        result=\"error\"    \n",
    "else:\n",
    "    result=\"Invalid operation\"        \n",
    "\n",
    "\n",
    "print(result)\n",
    "\n"
   ]
  },
  {
   "cell_type": "code",
   "execution_count": 38,
   "metadata": {},
   "outputs": [
    {
     "name": "stdout",
     "output_type": "stream",
     "text": [
      "$18\n"
     ]
    }
   ],
   "source": [
    "## determin the ticket price based on your age\n",
    "age=int(input(\"enter your age\"))\n",
    "is_student=input(\"enter you are student yes or no\").lower()\n",
    "if age<5:\n",
    "    price=\"Free\"\n",
    "elif age<=12:\n",
    "    price=\"$13\"\n",
    "elif age<=17:\n",
    "    if is_student==\"yes\":\n",
    "        price=\"$11\"\n",
    "    else:\n",
    "        price=\"$20\"    \n",
    "elif age<=64:\n",
    "    if is_student==\"yes\":\n",
    "        price=\"$18\"\n",
    "    else:\n",
    "        price=\"$25\" \n",
    "\n",
    "print(price)        \n",
    "\n"
   ]
  },
  {
   "cell_type": "code",
   "execution_count": null,
   "metadata": {},
   "outputs": [],
   "source": []
  }
 ],
 "metadata": {
  "kernelspec": {
   "display_name": "Python 3",
   "language": "python",
   "name": "python3"
  },
  "language_info": {
   "codemirror_mode": {
    "name": "ipython",
    "version": 3
   },
   "file_extension": ".py",
   "mimetype": "text/x-python",
   "name": "python",
   "nbconvert_exporter": "python",
   "pygments_lexer": "ipython3",
   "version": "3.12.0"
  }
 },
 "nbformat": 4,
 "nbformat_minor": 2
}
