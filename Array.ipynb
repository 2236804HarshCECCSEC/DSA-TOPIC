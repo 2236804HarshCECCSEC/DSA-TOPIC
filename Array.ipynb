{
 "cells": [
  {
   "cell_type": "markdown",
   "metadata": {},
   "source": [
    "Arrays\n",
    "An array is a collection of elements stored in contigous memory location.\n",
    "All elements of array are of same data type(int,float,etc.). Array  allow for eficient access and manipulation of data.\n"
   ]
  },
  {
   "cell_type": "code",
   "execution_count": 1,
   "metadata": {},
   "outputs": [
    {
     "name": "stdout",
     "output_type": "stream",
     "text": [
      "[1, 'hey']\n"
     ]
    }
   ],
   "source": [
    "l1=[]\n",
    "l1.append(1)\n",
    "l1.append(\"hey\")\n",
    "\n",
    "print(l1)"
   ]
  },
  {
   "cell_type": "code",
   "execution_count": 2,
   "metadata": {},
   "outputs": [],
   "source": [
    "## Array have fix size. when ever we created an array we have to declare the size of and array. Suppose we declare array[5] then we can't store more than 5 values in it."
   ]
  },
  {
   "cell_type": "code",
   "execution_count": 7,
   "metadata": {},
   "outputs": [],
   "source": [
    "## Homogeneous in nature means they have sme type of data.\n",
    "\n",
    "\n",
    "## In python we use list insted of aaray as they provide more flexibility. However, python provides ability to use array via libraries such as numpy and array."
   ]
  },
  {
   "cell_type": "code",
   "execution_count": 5,
   "metadata": {},
   "outputs": [
    {
     "name": "stdout",
     "output_type": "stream",
     "text": [
      "array('i', [1, 2, 3, 4, 5])\n",
      "array('i', [10, 2, 3, 4, 5])\n"
     ]
    }
   ],
   "source": [
    "import array\n",
    "arr=array.array('i',[1,2,3,4,5])\n",
    "print(arr)\n",
    "arr[0]=10\n",
    "print(arr)\n",
    "## what is i here . so this is data type here"
   ]
  },
  {
   "cell_type": "code",
   "execution_count": 6,
   "metadata": {},
   "outputs": [],
   "source": [
    "## array --> homogenous,fixed size,more memory efficient for larger data, use array or numpy.\n",
    "\n",
    "## List --> Hetrogenoeous, dynamic,slower for larger dataset,built in."
   ]
  },
  {
   "cell_type": "code",
   "execution_count": 7,
   "metadata": {},
   "outputs": [
    {
     "name": "stdout",
     "output_type": "stream",
     "text": [
      "\n",
      "Welcome to Python 3.12's help utility!\n",
      "\n",
      "If this is your first time using Python, you should definitely check out\n",
      "the tutorial on the internet at https://docs.python.org/3.12/tutorial/.\n",
      "\n",
      "Enter the name of any module, keyword, or topic to get help on writing\n",
      "Python programs and using Python modules.  To quit this help utility and\n",
      "return to the interpreter, just type \"quit\".\n",
      "\n",
      "To get a list of available modules, keywords, symbols, or topics, type\n",
      "\"modules\", \"keywords\", \"symbols\", or \"topics\".  Each module also comes\n",
      "with a one-line summary of what it does; to list the modules whose name\n",
      "or summary contain a given string such as \"spam\", type \"modules spam\".\n",
      "\n",
      "\n",
      "Please wait a moment while I gather a list of all available modules...\n",
      "\n",
      "IPython             asyncio             mimetypes           tempfile\n",
      "__future__          atexit              mmap                test\n",
      "__hello__           audioop             mmapfile            textwrap\n",
      "__phello__          autocommand         mmsystem            this\n",
      "_abc                backports           modulefinder        threading\n",
      "_aix_support        base64              more_itertools      time\n",
      "_ast                bdb                 msilib              timeit\n",
      "_asyncio            binascii            msvcrt              timer\n",
      "_bisect             bisect              multiprocessing     tkinter\n",
      "_blake2             builtins            nest_asyncio        token\n",
      "_bz2                bz2                 netbios             tokenize\n",
      "_codecs             cProfile            netrc               tomli\n",
      "_codecs_cn          calendar            nntplib             tomllib\n",
      "_codecs_hk          cgi                 nt                  tornado\n",
      "_codecs_iso2022     cgitb               ntpath              trace\n",
      "_codecs_jp          chunk               ntsecuritycon       traceback\n",
      "_codecs_kr          cmath               nturl2path          tracemalloc\n",
      "_codecs_tw          cmd                 numbers             traitlets\n",
      "_collections        code                odbc                tty\n",
      "_collections_abc    codecs              opcode              turtle\n",
      "_compat_pickle      codeop              operator            turtledemo\n",
      "_compression        collections         optparse            typeguard\n",
      "_contextvars        colorama            os                  types\n",
      "_csv                colorsys            packaging           typing\n",
      "_ctypes             comm                parso               typing_extensions\n",
      "_ctypes_test        commctrl            pathlib             unicodedata\n",
      "_datetime           compileall          pdb                 unittest\n",
      "_decimal            concurrent          perfmon             urllib\n",
      "_distutils_hack     configparser        pickle              uu\n",
      "_elementtree        contextlib          pickletools         uuid\n",
      "_functools          contextvars         pip                 venv\n",
      "_hashlib            copy                pipes               warnings\n",
      "_heapq              copyreg             pkg_resources       wave\n",
      "_imp                crypt               pkgutil             wcwidth\n",
      "_io                 csv                 platform            weakref\n",
      "_json               ctypes              platformdirs        webbrowser\n",
      "_locale             curses              plistlib            wheel\n",
      "_lsprof             dataclasses         poplib              win2kras\n",
      "_lzma               datetime            posixpath           win32api\n",
      "_markupbase         dateutil            pprint              win32clipboard\n",
      "_md5                dbi                 profile             win32com\n",
      "_msi                dbm                 prompt_toolkit      win32con\n",
      "_multibytecodec     dde                 pstats              win32console\n",
      "_multiprocessing    debugpy             psutil              win32cred\n",
      "_opcode             decimal             pty                 win32crypt\n",
      "_operator           decorator           pure_eval           win32cryptcon\n",
      "_osx_support        difflib             py_compile          win32event\n",
      "_overlapped         dis                 pyclbr              win32evtlog\n",
      "_pickle             doctest             pydoc               win32evtlogutil\n",
      "_py_abc             email               pydoc_data          win32file\n",
      "_pydatetime         encodings           pyexpat             win32gui\n",
      "_pydecimal          ensurepip           pygments            win32gui_struct\n",
      "_pyio               enum                pythoncom           win32help\n",
      "_pylong             errno               pywin               win32inet\n",
      "_queue              executing           pywin32_bootstrap   win32inetcon\n",
      "_random             faulthandler        pywin32_testutil    win32job\n",
      "_sha1               filecmp             pywintypes          win32lz\n",
      "_sha2               fileinput           queue               win32net\n",
      "_sha3               fnmatch             quopri              win32netcon\n",
      "_signal             fractions           random              win32pdh\n",
      "_sitebuiltins       ftplib              rasutil             win32pdhquery\n",
      "_socket             functools           re                  win32pdhutil\n",
      "_sqlite3            gc                  regcheck            win32pipe\n",
      "_sre                genericpath         regutil             win32print\n",
      "_ssl                getopt              reprlib             win32process\n",
      "_stat               getpass             rlcompleter         win32profile\n",
      "_statistics         gettext             runpy               win32ras\n",
      "_string             glob                sched               win32rcparser\n",
      "_strptime           graphlib            secrets             win32security\n",
      "_struct             gzip                select              win32service\n",
      "_symtable           hashlib             selectors           win32serviceutil\n",
      "_testbuffer         heapq               servicemanager      win32timezone\n",
      "_testcapi           hmac                setuptools          win32trace\n",
      "_testclinic         html                shelve              win32traceutil\n",
      "_testconsole        http                shlex               win32transaction\n",
      "_testimportmultiple idlelib             shutil              win32ts\n",
      "_testinternalcapi   imaplib             signal              win32ui\n",
      "_testmultiphase     imghdr              site                win32uiole\n",
      "_testsinglephase    importlib           six                 win32verstamp\n",
      "_thread             importlib_metadata  smtplib             win32wnet\n",
      "_threading_local    importlib_resources sndhdr              winerror\n",
      "_tkinter            inflect             socket              winioctlcon\n",
      "_tokenize           inspect             socketserver        winnt\n",
      "_tracemalloc        io                  sqlite3             winperf\n",
      "_typing             ipaddress           sre_compile         winreg\n",
      "_uuid               ipykernel           sre_constants       winsound\n",
      "_warnings           ipykernel_launcher  sre_parse           winxpgui\n",
      "_weakref            isapi               ssl                 winxptheme\n",
      "_weakrefset         itertools           sspi                wsgiref\n",
      "_win32sysloader     jedi                sspicon             xdrlib\n",
      "_winapi             json                stack_data          xml\n",
      "_winxptheme         jupyter             start_pythonwin     xmlrpc\n",
      "_wmi                jupyter_client      stat                xxlimited\n",
      "_xxinterpchannels   jupyter_core        statistics          xxlimited_35\n",
      "_xxsubinterpreters  keyword             string              xxsubtype\n",
      "_zoneinfo           lib2to3             stringprep          zipapp\n",
      "abc                 linecache           struct              zipfile\n",
      "adodbapi            locale              subprocess          zipimport\n",
      "afxres              logging             sunau               zipp\n",
      "aifc                lzma                symtable            zlib\n",
      "antigravity         mailbox             sys                 zmq\n",
      "argparse            mailcap             sysconfig           zoneinfo\n",
      "array               marshal             tabnanny            \n",
      "ast                 math                tarfile             \n",
      "asttokens           matplotlib_inline   telnetlib           \n",
      "\n",
      "Enter any module name to get more help.  Or, type \"modules spam\" to search\n",
      "for modules whose name or summary contain the string \"spam\".\n",
      "\n",
      "\n",
      "Here is a list of the Python keywords.  Enter any keyword to get more help.\n",
      "\n",
      "False               class               from                or\n",
      "None                continue            global              pass\n",
      "True                def                 if                  raise\n",
      "and                 del                 import              return\n",
      "as                  elif                in                  try\n",
      "assert              else                is                  while\n",
      "async               except              lambda              with\n",
      "await               finally             nonlocal            yield\n",
      "break               for                 not                 \n",
      "\n",
      "\n",
      "You are now leaving help and returning to the Python interpreter.\n",
      "If you want to ask for help on a particular object directly from the\n",
      "interpreter, you can type \"help(object)\".  Executing \"help('string')\"\n",
      "has the same effect as typing a particular string at the help> prompt.\n"
     ]
    }
   ],
   "source": [
    "## you can use \"help()\"\n",
    "\n",
    "help()"
   ]
  },
  {
   "cell_type": "code",
   "execution_count": null,
   "metadata": {},
   "outputs": [],
   "source": []
  }
 ],
 "metadata": {
  "kernelspec": {
   "display_name": "Python 3",
   "language": "python",
   "name": "python3"
  },
  "language_info": {
   "codemirror_mode": {
    "name": "ipython",
    "version": 3
   },
   "file_extension": ".py",
   "mimetype": "text/x-python",
   "name": "python",
   "nbconvert_exporter": "python",
   "pygments_lexer": "ipython3",
   "version": "3.12.0"
  }
 },
 "nbformat": 4,
 "nbformat_minor": 2
}
